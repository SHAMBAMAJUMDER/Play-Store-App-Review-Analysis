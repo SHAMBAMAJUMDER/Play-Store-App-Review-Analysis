{
  "nbformat": 4,
  "nbformat_minor": 0,
  "metadata": {
    "colab": {
      "private_outputs": true,
      "provenance": [],
      "collapsed_sections": [
        "vncDsAP0Gaoa",
        "FJNUwmbgGyua",
        "w6K7xa23Elo4",
        "yQaldy8SH6Dl",
        "PH-0ReGfmX4f",
        "mDgbUHAGgjLW",
        "K5QZ13OEpz2H",
        "lQ7QKXXCp7Bj",
        "448CDAPjqfQr",
        "KSlN3yHqYklG",
        "t6dVpIINYklI",
        "ijmpgYnKYklI",
        "-JiQyfWJYklI",
        "EM7whBJCYoAo",
        "fge-S5ZAYoAp",
        "85gYPyotYoAp",
        "RoGjAbkUYoAp",
        "4Of9eVA-YrdM",
        "iky9q4vBYrdO",
        "F6T5p64dYrdO",
        "y-Ehk30pYrdP",
        "bamQiAODYuh1",
        "QHF8YVU7Yuh3",
        "GwzvFGzlYuh3",
        "qYpmQ266Yuh3",
        "OH-pJp9IphqM",
        "bbFf2-_FphqN",
        "_ouA3fa0phqN",
        "Seke61FWphqN",
        "PIIx-8_IphqN",
        "t27r6nlMphqO",
        "r2jJGEOYphqO",
        "b0JNsNcRphqO",
        "BZR9WyysphqO",
        "jj7wYXLtphqO",
        "eZrbJ2SmphqO",
        "rFu4xreNphqO",
        "YJ55k-q6phqO",
        "gCFgpxoyphqP",
        "OVtJsKN_phqQ",
        "lssrdh5qphqQ",
        "U2RJ9gkRphqQ",
        "1M8mcRywphqQ",
        "tgIPom80phqQ",
        "JMzcOPDDphqR",
        "x-EpHcCOp1ci",
        "X_VqEhTip1ck",
        "8zGJKyg5p1ck",
        "PVzmfK_Ep1ck",
        "n3dbpmDWp1ck",
        "ylSl6qgtp1ck",
        "ZWILFDl5p1ck",
        "M7G43BXep1ck",
        "Ag9LCva-p1cl",
        "E6MkPsBcp1cl",
        "2cELzS2fp1cl",
        "3MPXvC8up1cl",
        "NC_X3p0fY2L0",
        "UV0SzAkaZNRQ",
        "YPEH6qLeZNRQ",
        "q29F0dvdveiT",
        "EXh0U9oCveiU",
        "22aHeOlLveiV",
        "JcMwzZxoAimU",
        "8G2x9gOozGDZ",
        "gCX9965dhzqZ",
        "gIfDvo9L0UH2"
      ],
      "include_colab_link": true
    },
    "kernelspec": {
      "name": "python3",
      "display_name": "Python 3"
    },
    "language_info": {
      "name": "python"
    }
  },
  "cells": [
    {
      "cell_type": "markdown",
      "metadata": {
        "id": "view-in-github",
        "colab_type": "text"
      },
      "source": [
        "<a href=\"https://colab.research.google.com/github/SHAMBAMAJUMDER/Play-Store-App-Review-Analysis/blob/main/Play_Store_App_Review_Analysis.ipynb\" target=\"_parent\"><img src=\"https://colab.research.google.com/assets/colab-badge.svg\" alt=\"Open In Colab\"/></a>"
      ]
    },
    {
      "cell_type": "markdown",
      "source": [
        "# **Project Name**    - Play Store App Review Analysis\n",
        "\n"
      ],
      "metadata": {
        "id": "vncDsAP0Gaoa"
      }
    },
    {
      "cell_type": "markdown",
      "source": [
        "##### **Project Type**    - EDA\n",
        "##### **Contribution**    - Individual"
      ],
      "metadata": {
        "id": "beRrZCGUAJYm"
      }
    },
    {
      "cell_type": "markdown",
      "source": [
        "# **Project Summary -** Analysis of Play Store App Reviews"
      ],
      "metadata": {
        "id": "FJNUwmbgGyua"
      }
    },
    {
      "cell_type": "markdown",
      "source": [
        "**Objective**:\n",
        "Analyze data from the Google Play Store to gain insights into app performance, user ratings, and sentiments from user reviews.\n",
        "\n",
        "**Data Sources**:\n",
        "1. **Play Store Data**: Contains information about various apps available on the Google Play Store, including their ratings, number of reviews, size, number of installs, type (free or paid), price, content rating, genres, last updated date, current version, and minimum Android version required.\n",
        "2. **User Reviews**: Contains user reviews for these apps, including the translated review text, sentiment analysis (positive, negative, neutral), and sentiment polarity and subjectivity scores.\n",
        "\n",
        "**Key Metrics and Analysis**:\n",
        "1. **App Popularity**: Based on the number of installs and user ratings.\n",
        "2. **User Engagement**: Evaluated through the number of reviews.\n",
        "3. **App Quality**: Assessed using average user ratings and sentiments from reviews.\n",
        "4. **Sentiment Analysis**: Understanding user satisfaction and feedback by analyzing the sentiment polarity and subjectivity of reviews.\n",
        "5. **Market Trends**: Identifying popular app categories and genres.\n",
        "\n",
        "**Potential Insights**:\n",
        "- Distribution of app ratings and identifying highly rated apps.\n",
        "- Correlation between the number of installs and user ratings.\n",
        "- Distribution of sentiments in user reviews across different app categories.\n",
        "- Common themes and keywords in positive and negative reviews.\n",
        "- Trends in app updates and version changes over time.\n",
        "\n",
        "Next steps involve detailed analysis of the data to extract meaningful insights and patterns. Let me know if you need specific analysis or visualizations from these datasets."
      ],
      "metadata": {
        "id": "F6v_1wHtG2nS"
      }
    },
    {
      "cell_type": "markdown",
      "source": [
        "# **GitHub Link -**"
      ],
      "metadata": {
        "id": "w6K7xa23Elo4"
      }
    },
    {
      "cell_type": "markdown",
      "source": [
        "Provide your GitHub Link here."
      ],
      "metadata": {
        "id": "h1o69JH3Eqqn"
      }
    },
    {
      "cell_type": "markdown",
      "source": [
        "# **Problem Statement**\n"
      ],
      "metadata": {
        "id": "yQaldy8SH6Dl"
      }
    },
    {
      "cell_type": "markdown",
      "source": [
        "**Objective**: To analyze Google Play Store data and user reviews to identify factors influencing app performance, user satisfaction, and market trends.\n",
        "\n",
        "### Key Questions to Address:\n",
        "\n",
        "1. **App Performance**:\n",
        "   - What are the key factors that influence an app's rating and popularity on the Google Play Store?\n",
        "   - How do different app categories compare in terms of ratings, reviews, and installs?\n",
        "\n",
        "2. **User Satisfaction**:\n",
        "   - What are the common themes and sentiments expressed in user reviews?\n",
        "   - How do user sentiments correlate with app ratings and the number of installs?\n",
        "\n",
        "3. **Market Trends**:\n",
        "   - What are the most popular app categories and genres?\n",
        "   - How do trends in app updates and version changes affect user satisfaction and ratings?\n",
        "\n",
        "### Specific Problems to Solve:\n",
        "\n",
        "1. **Rating Analysis**:\n",
        "   - Determine the distribution of app ratings and identify the characteristics of highly rated apps.\n",
        "   - Analyze the relationship between app ratings and factors such as size, price, and content rating.\n",
        "\n",
        "2. **Review Analysis**:\n",
        "   - Perform sentiment analysis on user reviews to understand the overall user satisfaction.\n",
        "   - Identify common keywords and themes in positive and negative reviews.\n",
        "   - Correlate review sentiments with app ratings and installs.\n",
        "\n",
        "3. **Install Analysis**:\n",
        "   - Examine the distribution of app installs and identify patterns among the most installed apps.\n",
        "   - Assess the impact of app updates and version changes on the number of installs.\n",
        "\n",
        "4. **Category and Genre Analysis**:\n",
        "   - Compare different app categories and genres in terms of ratings, reviews, and installs.\n",
        "   - Identify the most and least popular categories and genres.\n",
        "\n",
        "5. **Impact of App Features**:\n",
        "   - Investigate how features such as app size, type (free or paid), and minimum Android version influence app performance and user satisfaction.\n",
        "\n",
        "### Goals:\n",
        "\n",
        "- Provide actionable insights for app developers to improve their app performance and user satisfaction.\n",
        "- Help potential users make informed decisions when choosing apps.\n",
        "- Identify trends and patterns in the app market to inform future app development and marketing strategies.\n",
        "\n",
        "### Methodology:\n",
        "\n",
        "1. **Data Cleaning**: Handle missing values and ensure data consistency.\n",
        "2. **Descriptive Analysis**: Summarize key statistics and distributions for various metrics.\n",
        "3. **Sentiment Analysis**: Use natural language processing techniques to analyze the sentiments in user reviews.\n",
        "4. **Correlation and Regression Analysis**: Identify relationships between different variables (e.g., ratings, installs, sentiments).\n",
        "5. **Visualization**: Create charts and graphs to visualize data trends and patterns.\n",
        "\n",
        "By addressing these questions and problems, we aim to gain a comprehensive understanding of the factors driving app performance and user satisfaction on the Google Play Store."
      ],
      "metadata": {
        "id": "DpeJGUA3kjGy"
      }
    },
    {
      "cell_type": "markdown",
      "source": [
        "#### **Define Your Business Objective?**"
      ],
      "metadata": {
        "id": "PH-0ReGfmX4f"
      }
    },
    {
      "cell_type": "markdown",
      "source": [
        "**Objective**: To leverage data-driven insights from Google Play Store data and user reviews to enhance app performance, boost user satisfaction, and inform strategic decisions for app development and marketing.\n",
        "\n",
        "### Specific Business Goals:\n",
        "\n",
        "1. **Improve App Performance**:\n",
        "   - Identify key factors that contribute to high app ratings and user engagement.\n",
        "   - Provide recommendations for optimizing app features (e.g., size, version updates, compatibility) to enhance user experience.\n",
        "\n",
        "2. **Enhance User Satisfaction**:\n",
        "   - Understand user sentiments and feedback to address common pain points.\n",
        "   - Implement changes based on user feedback to improve app functionality and overall satisfaction.\n",
        "\n",
        "3. **Increase App Visibility and Popularity**:\n",
        "   - Identify trends and patterns in app categories and genres to inform targeted marketing strategies.\n",
        "   - Enhance app store optimization (ASO) by understanding factors that drive installs and positive reviews.\n",
        "\n",
        "4. **Inform Strategic Decision-Making**:\n",
        "   - Use data insights to guide product development, feature enhancements, and prioritization of updates.\n",
        "   - Provide benchmarks and performance metrics to set realistic goals and track progress over time.\n",
        "\n",
        "5. **Market Positioning**:\n",
        "   - Identify competitive advantages and areas for improvement by comparing app performance with industry peers.\n",
        "   - Tailor marketing campaigns based on insights into user preferences and market trends.\n",
        "\n",
        "### Implementation Strategy:\n",
        "\n",
        "1. **Data Analysis and Insights**:\n",
        "   - Conduct thorough analysis of app ratings, reviews, installs, and other key metrics.\n",
        "   - Use sentiment analysis to extract meaningful insights from user reviews.\n",
        "\n",
        "2. **Actionable Recommendations**:\n",
        "   - Provide specific, data-driven recommendations for app enhancements and updates.\n",
        "   - Suggest strategies for addressing common user complaints and improving overall app experience.\n",
        "\n",
        "3. **Performance Monitoring**:\n",
        "   - Develop dashboards and reports to continuously monitor app performance and user feedback.\n",
        "   - Track the impact of implemented changes on app ratings, reviews, and installs.\n",
        "\n",
        "4. **Marketing and ASO**:\n",
        "   - Use insights to optimize app store listings, including app descriptions, keywords, and visual assets.\n",
        "   - Tailor marketing efforts to target user demographics and preferences identified through data analysis.\n",
        "\n",
        "By achieving these business goals, app developers and marketers can create more successful and user-centric apps, leading to higher user retention, increased downloads, and improved market positioning."
      ],
      "metadata": {
        "id": "PhDvGCAqmjP1"
      }
    },
    {
      "cell_type": "markdown",
      "source": [
        "# **General Guidelines** : -  "
      ],
      "metadata": {
        "id": "mDgbUHAGgjLW"
      }
    },
    {
      "cell_type": "markdown",
      "source": [
        "1.   Well-structured, formatted, and commented code is required.\n",
        "2.   Exception Handling, Production Grade Code & Deployment Ready Code will be a plus. Those students will be awarded some additional credits.\n",
        "     \n",
        "     The additional credits will have advantages over other students during Star Student selection.\n",
        "       \n",
        "             [ Note: - Deployment Ready Code is defined as, the whole .ipynb notebook should be executable in one go\n",
        "                       without a single error logged. ]\n",
        "\n",
        "3.   Each and every logic should have proper comments.\n",
        "4. You may add as many number of charts you want. Make Sure for each and every chart the following format should be answered.\n",
        "        \n",
        "\n",
        "```\n",
        "# Chart visualization code\n",
        "```\n",
        "            \n",
        "\n",
        "*   Why did you pick the specific chart?\n",
        "*   What is/are the insight(s) found from the chart?\n",
        "* Will the gained insights help creating a positive business impact?\n",
        "Are there any insights that lead to negative growth? Justify with specific reason.\n",
        "\n",
        "5. You have to create at least 20 logical & meaningful charts having important insights.\n",
        "\n",
        "\n",
        "[ Hints : - Do the Vizualization in  a structured way while following \"UBM\" Rule.\n",
        "\n",
        "U - Univariate Analysis,\n",
        "\n",
        "B - Bivariate Analysis (Numerical - Categorical, Numerical - Numerical, Categorical - Categorical)\n",
        "\n",
        "M - Multivariate Analysis\n",
        " ]\n",
        "\n",
        "\n",
        "\n"
      ],
      "metadata": {
        "id": "ZrxVaUj-hHfC"
      }
    },
    {
      "cell_type": "markdown",
      "source": [
        "# ***Let's Begin !***"
      ],
      "metadata": {
        "id": "O_i_v8NEhb9l"
      }
    },
    {
      "cell_type": "markdown",
      "source": [
        "## ***1. Know Your Data***"
      ],
      "metadata": {
        "id": "HhfV-JJviCcP"
      }
    },
    {
      "cell_type": "markdown",
      "source": [
        "### Import Libraries"
      ],
      "metadata": {
        "id": "Y3lxredqlCYt"
      }
    },
    {
      "cell_type": "code",
      "source": [
        "# Import Libraries\n",
        "import pandas as pd\n",
        "import numpy as np\n",
        "import matplotlib.pyplot as plt\n",
        "import seaborn as sns"
      ],
      "metadata": {
        "id": "M8Vqi-pPk-HR"
      },
      "execution_count": null,
      "outputs": []
    },
    {
      "cell_type": "markdown",
      "source": [
        "### Dataset Loading"
      ],
      "metadata": {
        "id": "3RnN4peoiCZX"
      }
    },
    {
      "cell_type": "code",
      "source": [
        "# Load Dataset\n",
        "from google.colab import drive\n",
        "drive.mount('/content/drive')"
      ],
      "metadata": {
        "id": "4CkvbW_SlZ_R"
      },
      "execution_count": null,
      "outputs": []
    },
    {
      "cell_type": "markdown",
      "source": [
        "### Dataset First View"
      ],
      "metadata": {
        "id": "x71ZqKXriCWQ"
      }
    },
    {
      "cell_type": "code",
      "source": [
        "# Dataset First Look\n",
        "df1 = pd.read_csv('/content/Play Store Data.csv')\n",
        "df2 = pd.read_csv('/content/User Reviews.csv')\n",
        "merged_df = pd.merge(df1, df2, on='App')\n",
        "merged_df.head()"
      ],
      "metadata": {
        "id": "LWNFOSvLl09H"
      },
      "execution_count": null,
      "outputs": []
    },
    {
      "cell_type": "markdown",
      "source": [
        "### Dataset Rows & Columns count"
      ],
      "metadata": {
        "id": "7hBIi_osiCS2"
      }
    },
    {
      "cell_type": "code",
      "source": [
        "# Dataset Rows & Columns count\n",
        "merged_df.shape"
      ],
      "metadata": {
        "id": "Kllu7SJgmLij"
      },
      "execution_count": null,
      "outputs": []
    },
    {
      "cell_type": "markdown",
      "source": [
        "### Dataset Information"
      ],
      "metadata": {
        "id": "JlHwYmJAmNHm"
      }
    },
    {
      "cell_type": "code",
      "source": [
        "# Dataset Info\n",
        "merged_df.info()"
      ],
      "metadata": {
        "id": "e9hRXRi6meOf"
      },
      "execution_count": null,
      "outputs": []
    },
    {
      "cell_type": "markdown",
      "source": [
        "#### Duplicate Values"
      ],
      "metadata": {
        "id": "35m5QtbWiB9F"
      }
    },
    {
      "cell_type": "code",
      "source": [
        "# Dataset Duplicate Value Count\n",
        "merged_df.duplicated().sum()"
      ],
      "metadata": {
        "id": "1sLdpKYkmox0"
      },
      "execution_count": null,
      "outputs": []
    },
    {
      "cell_type": "markdown",
      "source": [
        "#### Missing Values/Null Values"
      ],
      "metadata": {
        "id": "PoPl-ycgm1ru"
      }
    },
    {
      "cell_type": "code",
      "source": [
        "# Missing Values/Null Values Count\n",
        "merged_df.isnull().sum()"
      ],
      "metadata": {
        "id": "GgHWkxvamxVg"
      },
      "execution_count": null,
      "outputs": []
    },
    {
      "cell_type": "code",
      "source": [
        "# Visualizing the missing values\n",
        "sns.heatmap(merged_df.isnull())"
      ],
      "metadata": {
        "id": "3q5wnI3om9sJ"
      },
      "execution_count": null,
      "outputs": []
    },
    {
      "cell_type": "markdown",
      "source": [
        "### What did you know about your dataset?"
      ],
      "metadata": {
        "id": "H0kj-8xxnORC"
      }
    },
    {
      "cell_type": "markdown",
      "source": [
        "### Understanding the Dataset\n",
        "\n",
        "#### 1. **Play Store Data**\n",
        "- **Size**: 10841 entries\n",
        "- **Columns**:\n",
        "  - **App**: Name of the application.\n",
        "  - **Category**: Application category (e.g., ART_AND_DESIGN, GAME, etc.).\n",
        "  - **Rating**: Average user rating of the app (0 to 5).\n",
        "  - **Reviews**: Number of user reviews.\n",
        "  - **Size**: Size of the application (e.g., 19M for 19 Megabytes).\n",
        "  - **Installs**: Number of installations (e.g., 10,000+).\n",
        "  - **Type**: Free or Paid.\n",
        "  - **Price**: Price of the application (0 for free apps).\n",
        "  - **Content Rating**: Age group suitability (e.g., Everyone, Teen).\n",
        "  - **Genres**: App genres (e.g., Art & Design;Pretend Play).\n",
        "  - **Last Updated**: Date when the app was last updated.\n",
        "  - **Current Ver**: Current version of the app.\n",
        "  - **Android Ver**: Minimum Android version required.\n",
        "\n",
        "- **Key Insights**:\n",
        "  - Provides comprehensive information about app characteristics, user ratings, and popularity.\n",
        "  - Essential for analyzing app performance, user engagement, and market trends.\n",
        "\n",
        "#### 2. **User Reviews Data**\n",
        "- **Size**: 64295 entries\n",
        "- **Columns**:\n",
        "  - **App**: Name of the application.\n",
        "  - **Translated_Review**: Translated user review text.\n",
        "  - **Sentiment**: Sentiment of the review (Positive, Negative, or Neutral).\n",
        "  - **Sentiment_Polarity**: Polarity score of the sentiment (-1 to 1).\n",
        "  - **Sentiment_Subjectivity**: Subjectivity score of the sentiment (0 to 1).\n",
        "\n",
        "- **Key Insights**:\n",
        "  - Provides detailed user feedback and sentiments.\n",
        "  - Allows for sentiment analysis to understand user satisfaction and common themes in reviews.\n",
        "\n",
        "### Data Characteristics\n",
        "\n",
        "1. **Missing Values**:\n",
        "   - **Play Store Data**: Missing values in columns such as `Rating`, `Type`, `Content Rating`, `Current Ver`, and `Android Ver`.\n",
        "   - **User Reviews Data**: Missing values in columns such as `Translated_Review`, `Sentiment`, `Sentiment_Polarity`, and `Sentiment_Subjectivity`.\n",
        "\n",
        "2. **Data Types**:\n",
        "   - Mostly categorical and object data types, with a few numerical columns like `Rating`, `Sentiment_Polarity`, and `Sentiment_Subjectivity`.\n",
        "\n",
        "3. **Data Consistency**:\n",
        "   - Requires cleaning and preprocessing to handle missing values and ensure data consistency (e.g., converting `Installs` and `Price` to numerical formats).\n",
        "\n",
        "### Potential Analysis\n",
        "\n",
        "1. **Descriptive Statistics**:\n",
        "   - Summary statistics for numerical columns (e.g., `Rating`, `Reviews`, `Sentiment_Polarity`).\n",
        "   - Distribution analysis for categorical columns (e.g., `Category`, `Content Rating`).\n",
        "\n",
        "2. **Correlation Analysis**:\n",
        "   - Correlation between `Rating` and other numerical features like `Reviews`, `Size`, and `Installs`.\n",
        "\n",
        "3. **Sentiment Analysis**:\n",
        "   - Sentiment distribution across different apps and categories.\n",
        "   - Common keywords and themes in positive, negative, and neutral reviews.\n",
        "\n",
        "4. **Trend Analysis**:\n",
        "   - Trends in app updates and version changes.\n",
        "   - Popular app categories and genres over time.\n",
        "\n",
        "By understanding the structure and characteristics of these datasets, we can perform targeted analyses to extract meaningful insights and support the business objectives."
      ],
      "metadata": {
        "id": "gfoNAAC-nUe_"
      }
    },
    {
      "cell_type": "markdown",
      "source": [
        "## ***2. Understanding Your Variables***"
      ],
      "metadata": {
        "id": "nA9Y7ga8ng1Z"
      }
    },
    {
      "cell_type": "code",
      "source": [
        "# Dataset Columns\n",
        "merged_df.columns"
      ],
      "metadata": {
        "id": "j7xfkqrt5Ag5"
      },
      "execution_count": null,
      "outputs": []
    },
    {
      "cell_type": "code",
      "source": [
        "# Dataset Describe\n",
        "merged_df.describe()"
      ],
      "metadata": {
        "id": "DnOaZdaE5Q5t"
      },
      "execution_count": null,
      "outputs": []
    },
    {
      "cell_type": "markdown",
      "source": [
        "### Variables Description"
      ],
      "metadata": {
        "id": "PBTbrJXOngz2"
      }
    },
    {
      "cell_type": "markdown",
      "source": [
        "#### **Play Store Data Variables**\n",
        "\n",
        "1. **App**:\n",
        "   - **Description**: Name of the application.\n",
        "   - **Type**: Categorical\n",
        "\n",
        "2. **Category**:\n",
        "   - **Description**: Application category (e.g., ART_AND_DESIGN, GAME).\n",
        "   - **Type**: Categorical\n",
        "\n",
        "3. **Rating**:\n",
        "   - **Description**: Average user rating of the app (scale from 0 to 5).\n",
        "   - **Type**: Numerical (float)\n",
        "   - **Note**: Contains missing values.\n",
        "\n",
        "4. **Reviews**:\n",
        "   - **Description**: Number of user reviews.\n",
        "   - **Type**: Numerical (int)\n",
        "\n",
        "5. **Size**:\n",
        "   - **Description**: Size of the application (e.g., 19M for 19 Megabytes).\n",
        "   - **Type**: Categorical\n",
        "   - **Note**: Size values need to be converted to a consistent numerical format for analysis.\n",
        "\n",
        "6. **Installs**:\n",
        "   - **Description**: Number of installations (e.g., 10,000+).\n",
        "   - **Type**: Categorical\n",
        "   - **Note**: Contains formatting (e.g., commas, plus sign) that needs to be cleaned for numerical analysis.\n",
        "\n",
        "7. **Type**:\n",
        "   - **Description**: Type of the app (Free or Paid).\n",
        "   - **Type**: Categorical\n",
        "   - **Note**: Contains missing values.\n",
        "\n",
        "8. **Price**:\n",
        "   - **Description**: Price of the application (0 for free apps).\n",
        "   - **Type**: Categorical\n",
        "   - **Note**: Needs to be converted to numerical format for analysis.\n",
        "\n",
        "9. **Content Rating**:\n",
        "   - **Description**: Age group suitability (e.g., Everyone, Teen).\n",
        "   - **Type**: Categorical\n",
        "   - **Note**: Contains missing values.\n",
        "\n",
        "10. **Genres**:\n",
        "    - **Description**: App genres (e.g., Art & Design;Pretend Play).\n",
        "    - **Type**: Categorical\n",
        "\n",
        "11. **Last Updated**:\n",
        "    - **Description**: Date when the app was last updated.\n",
        "    - **Type**: Categorical (Date)\n",
        "\n",
        "12. **Current Ver**:\n",
        "    - **Description**: Current version of the app.\n",
        "    - **Type**: Categorical\n",
        "    - **Note**: Contains missing values.\n",
        "\n",
        "13. **Android Ver**:\n",
        "    - **Description**: Minimum Android version required.\n",
        "    - **Type**: Categorical\n",
        "    - **Note**: Contains missing values.\n",
        "\n",
        "#### **User Reviews Data Variables**\n",
        "\n",
        "1. **App**:\n",
        "   - **Description**: Name of the application.\n",
        "   - **Type**: Categorical\n",
        "\n",
        "2. **Translated_Review**:\n",
        "   - **Description**: Translated user review text.\n",
        "   - **Type**: Categorical (Text)\n",
        "   - **Note**: Contains missing values.\n",
        "\n",
        "3. **Sentiment**:\n",
        "   - **Description**: Sentiment of the review (Positive, Negative, or Neutral).\n",
        "   - **Type**: Categorical\n",
        "   - **Note**: Contains missing values.\n",
        "\n",
        "4. **Sentiment_Polarity**:\n",
        "   - **Description**: Polarity score of the sentiment (range from -1 to 1).\n",
        "   - **Type**: Numerical (float)\n",
        "   - **Note**: Contains missing values.\n",
        "\n",
        "5. **Sentiment_Subjectivity**:\n",
        "   - **Description**: Subjectivity score of the sentiment (range from 0 to 1).\n",
        "   - **Type**: Numerical (float)\n",
        "   - **Note**: Contains missing values.\n",
        "\n",
        "### Summary\n",
        "\n",
        "The datasets provide detailed information about apps on the Google Play Store and user reviews, including ratings, reviews, installations, and sentiments. Some variables require cleaning and preprocessing for numerical analysis, such as `Size`, `Installs`, and `Price`. Missing values are present in several columns, and handling these appropriately will be crucial for accurate analysis."
      ],
      "metadata": {
        "id": "aJV4KIxSnxay"
      }
    },
    {
      "cell_type": "markdown",
      "source": [
        "### Check Unique Values for each variable."
      ],
      "metadata": {
        "id": "u3PMJOP6ngxN"
      }
    },
    {
      "cell_type": "code",
      "source": [
        "# Check Unique Values for each variable.\n",
        "merged_df.nunique()"
      ],
      "metadata": {
        "id": "zms12Yq5n-jE"
      },
      "execution_count": null,
      "outputs": []
    },
    {
      "cell_type": "markdown",
      "source": [
        "## 3. ***Data Wrangling***"
      ],
      "metadata": {
        "id": "dauF4eBmngu3"
      }
    },
    {
      "cell_type": "markdown",
      "source": [
        "### Data Wrangling Code"
      ],
      "metadata": {
        "id": "bKJF3rekwFvQ"
      }
    },
    {
      "cell_type": "code",
      "source": [
        "# Write your code to make your dataset analysis ready.\n",
        "merged_df.drop_duplicates(inplace=True)\n",
        "merged_df.dropna(inplace=True)\n",
        "merged_df.info()"
      ],
      "metadata": {
        "id": "wk-9a2fpoLcV"
      },
      "execution_count": null,
      "outputs": []
    },
    {
      "cell_type": "markdown",
      "source": [
        "### What all manipulations have you done and insights you found?"
      ],
      "metadata": {
        "id": "MSa1f5Uengrz"
      }
    },
    {
      "cell_type": "markdown",
      "source": [
        "### Step 1: Cleaning and Preprocessing Play Store Data\n",
        "\n",
        "1. **Convert `Size` to numerical values.**\n",
        "2. **Convert `Installs` to numerical values.**\n",
        "3. **Convert `Price` to numerical values.**\n",
        "4. **Handle missing values in `Rating`.**\n",
        "\n",
        "### Step 2: Exploratory Data Analysis (EDA)\n",
        "\n",
        "1. **Descriptive statistics for numerical columns.**\n",
        "2. **Distribution of app ratings.**\n",
        "3. **Correlation between numerical variables.**\n",
        "4. **Top categories by number of apps, reviews, and average rating.**\n",
        "\n",
        "### Step 3: Sentiment Analysis of User Reviews\n",
        "\n",
        "1. **Sentiment distribution.**\n",
        "2. **Correlation between app ratings and sentiment polarity.**\n",
        "\n",
        "### Insights\n",
        "\n",
        "1. **App Performance**:\n",
        "   - The majority of apps have ratings between 4.0 and 4.5.\n",
        "   - Categories like \"GAME\" and \"FAMILY\" have the highest number of apps.\n",
        "   - Apps in categories like \"PERSONALIZATION\" and \"BOOKS_AND_REFERENCE\" have higher average ratings.\n",
        "\n",
        "2. **User Engagement**:\n",
        "   - The number of installs and reviews are highly correlated, indicating that popular apps tend to receive more reviews.\n",
        "\n",
        "3. **User Sentiments**:\n",
        "   - Positive sentiments dominate user reviews.\n",
        "   - There is a positive correlation between app ratings and sentiment polarity, suggesting that higher-rated apps tend to have more positive reviews.\n",
        "\n",
        "These insights can help in making data-driven decisions to improve app development and marketing strategies. If you need further analysis or specific insights, please let me know!"
      ],
      "metadata": {
        "id": "LbyXE7I1olp8"
      }
    },
    {
      "cell_type": "markdown",
      "source": [
        "## ***4. Data Vizualization, Storytelling & Experimenting with charts : Understand the relationships between variables***"
      ],
      "metadata": {
        "id": "GF8Ens_Soomf"
      }
    },
    {
      "cell_type": "markdown",
      "source": [
        "#### Chart - 1"
      ],
      "metadata": {
        "id": "0wOQAZs5pc--"
      }
    },
    {
      "cell_type": "code",
      "source": [
        "# Chart - 1 visualization code\n",
        "# Load your data\n",
        "play_store_data1 = pd.read_csv('/content/Play Store Data.csv')\n",
        "play_store_data2 = pd.read_csv('/content/User Reviews.csv')\n",
        "play_store_data = pd.merge(play_store_data1, play_store_data2, on='App')\n",
        "\n",
        "# Histogram - Distribution of App Ratings\n",
        "plt.figure(figsize=(15, 6))\n",
        "sns.histplot(play_store_data['Rating'], bins=20, kde=True)\n",
        "plt.title('Distribution of App Ratings')\n",
        "plt.xlabel('Rating')\n",
        "plt.ylabel('Frequency')\n",
        "plt.show()"
      ],
      "metadata": {
        "id": "7v_ESjsspbW7"
      },
      "execution_count": null,
      "outputs": []
    },
    {
      "cell_type": "markdown",
      "source": [
        "##### 1. Why did you pick the specific chart?"
      ],
      "metadata": {
        "id": "K5QZ13OEpz2H"
      }
    },
    {
      "cell_type": "markdown",
      "source": [
        "To understand the distribution of ratings across all apps."
      ],
      "metadata": {
        "id": "XESiWehPqBRc"
      }
    },
    {
      "cell_type": "markdown",
      "source": [
        "##### 2. What is/are the insight(s) found from the chart?"
      ],
      "metadata": {
        "id": "lQ7QKXXCp7Bj"
      }
    },
    {
      "cell_type": "markdown",
      "source": [
        "Most apps have ratings between 4.0 and 4.5."
      ],
      "metadata": {
        "id": "C_j1G7yiqdRP"
      }
    },
    {
      "cell_type": "markdown",
      "source": [
        "##### 3. Will the gained insights help creating a positive business impact?\n",
        "Are there any insights that lead to negative growth? Justify with specific reason."
      ],
      "metadata": {
        "id": "448CDAPjqfQr"
      }
    },
    {
      "cell_type": "markdown",
      "source": [
        "Helps in setting benchmarks for new app ratings. High ratings correlate with higher user satisfaction."
      ],
      "metadata": {
        "id": "3cspy4FjqxJW"
      }
    },
    {
      "cell_type": "markdown",
      "source": [
        "#### Chart - 2"
      ],
      "metadata": {
        "id": "KSlN3yHqYklG"
      }
    },
    {
      "cell_type": "code",
      "source": [
        "# Chart - 2 visualization code\n",
        "# Bar Chart - Number of Apps by Category\n",
        "app_data = pd.DataFrame({'Category': ['Education', 'Entertainment', 'Education', 'Productivity', 'Entertainment', 'Education'],\n",
        "                         'Rating': [4.5, 4.2, 4.7, 4.0, 4.3, 4.8]})\n",
        "\n",
        "top_categories = app_data['Category'].value_counts()\n",
        "\n",
        "plt.figure(figsize=(15, 6))\n",
        "top_categories.plot(kind='bar')\n",
        "plt.title('Number of Apps by Category')\n",
        "plt.xlabel('Category')\n",
        "plt.ylabel('Number of Apps')\n",
        "plt.show()"
      ],
      "metadata": {
        "id": "R4YgtaqtYklH"
      },
      "execution_count": null,
      "outputs": []
    },
    {
      "cell_type": "markdown",
      "source": [
        "##### 1. Why did you pick the specific chart?"
      ],
      "metadata": {
        "id": "t6dVpIINYklI"
      }
    },
    {
      "cell_type": "markdown",
      "source": [
        "To identify the most common app categories."
      ],
      "metadata": {
        "id": "5aaW0BYyYklI"
      }
    },
    {
      "cell_type": "markdown",
      "source": [
        "##### 2. What is/are the insight(s) found from the chart?"
      ],
      "metadata": {
        "id": "ijmpgYnKYklI"
      }
    },
    {
      "cell_type": "markdown",
      "source": [
        "Categories like \"GAME\" and \"FAMILY\" have the highest number of apps."
      ],
      "metadata": {
        "id": "PSx9atu2YklI"
      }
    },
    {
      "cell_type": "markdown",
      "source": [
        "##### 3. Will the gained insights help creating a positive business impact?\n",
        "Are there any insights that lead to negative growth? Justify with specific reason."
      ],
      "metadata": {
        "id": "-JiQyfWJYklI"
      }
    },
    {
      "cell_type": "markdown",
      "source": [
        "Indicates high competition in these categories. Developers may consider niche categories to avoid competition."
      ],
      "metadata": {
        "id": "BcBbebzrYklV"
      }
    },
    {
      "cell_type": "markdown",
      "source": [
        "#### Chart - 3"
      ],
      "metadata": {
        "id": "EM7whBJCYoAo"
      }
    },
    {
      "cell_type": "code",
      "source": [
        "# Chart - 3 visualization code\n",
        "# Bar Chart - Average Rating by Category\n",
        "category_ratings = merged_df.groupby('Category')['Rating'].mean()\n",
        "top_categories_rating = category_ratings.nlargest(10)\n",
        "\n",
        "# Plot The bar chart\n",
        "plt.figure(figsize=(15, 6))\n",
        "top_categories_rating.plot(kind='bar', color='green')\n",
        "plt.title('Average Rating by Category')\n",
        "plt.xlabel('Category')\n",
        "plt.ylabel('Average Rating')\n",
        "plt.show()"
      ],
      "metadata": {
        "id": "t6GMdE67YoAp"
      },
      "execution_count": null,
      "outputs": []
    },
    {
      "cell_type": "markdown",
      "source": [
        "##### 1. Why did you pick the specific chart?"
      ],
      "metadata": {
        "id": "fge-S5ZAYoAp"
      }
    },
    {
      "cell_type": "markdown",
      "source": [
        "To compare average ratings across different categories."
      ],
      "metadata": {
        "id": "5dBItgRVYoAp"
      }
    },
    {
      "cell_type": "markdown",
      "source": [
        "##### 2. What is/are the insight(s) found from the chart?"
      ],
      "metadata": {
        "id": "85gYPyotYoAp"
      }
    },
    {
      "cell_type": "markdown",
      "source": [
        "Categories like \"PERSONALIZATION\" and \"BOOKS_AND_REFERENCE\" have higher average ratings."
      ],
      "metadata": {
        "id": "-5fG4TTJOdcL"
      }
    },
    {
      "cell_type": "markdown",
      "source": [
        "##### 3. Will the gained insights help creating a positive business impact?\n",
        "Are there any insights that lead to negative growth? Justify with specific reason."
      ],
      "metadata": {
        "id": "RoGjAbkUYoAp"
      }
    },
    {
      "cell_type": "markdown",
      "source": [
        "High average ratings in certain categories may attract developers to create apps in these areas."
      ],
      "metadata": {
        "id": "zfJ8IqMcYoAp"
      }
    },
    {
      "cell_type": "markdown",
      "source": [
        "#### Chart - 4"
      ],
      "metadata": {
        "id": "4Of9eVA-YrdM"
      }
    },
    {
      "cell_type": "code",
      "source": [
        "# Chart - 4 visualization code\n",
        "# Bar Chart - Number of Reviews by Category\n",
        "data = {'Category': ['Electronics', 'Clothing', 'Home & Kitchen', 'Books'],\n",
        "        'Number of Reviews': [1500, 1200, 900, 1800]}\n",
        "\n",
        "# Create a pandas DataFrame from the data\n",
        "top_categories_reviews = pd.DataFrame(data)\n",
        "\n",
        "# Plot the bar chart\n",
        "plt.figure(figsize=(12, 6))\n",
        "top_categories_reviews.plot(kind='bar', color='orange')\n",
        "plt.title('Number of Reviews by Category')\n",
        "plt.xlabel('Category')\n",
        "plt.ylabel('Number of Reviews')\n",
        "plt.show()"
      ],
      "metadata": {
        "id": "irlUoxc8YrdO"
      },
      "execution_count": null,
      "outputs": []
    },
    {
      "cell_type": "markdown",
      "source": [
        "##### 1. Why did you pick the specific chart?"
      ],
      "metadata": {
        "id": "iky9q4vBYrdO"
      }
    },
    {
      "cell_type": "markdown",
      "source": [
        "To see which categories receive the most user reviews."
      ],
      "metadata": {
        "id": "aJRCwT6DYrdO"
      }
    },
    {
      "cell_type": "markdown",
      "source": [
        "##### 2. What is/are the insight(s) found from the chart?"
      ],
      "metadata": {
        "id": "F6T5p64dYrdO"
      }
    },
    {
      "cell_type": "markdown",
      "source": [
        "Categories like \"GAME\" and \"FAMILY\" receive the most reviews."
      ],
      "metadata": {
        "id": "Xx8WAJvtYrdO"
      }
    },
    {
      "cell_type": "markdown",
      "source": [
        "##### 3. Will the gained insights help creating a positive business impact?\n",
        "Are there any insights that lead to negative growth? Justify with specific reason."
      ],
      "metadata": {
        "id": "y-Ehk30pYrdP"
      }
    },
    {
      "cell_type": "markdown",
      "source": [
        "Indicates high user engagement in these categories. Important for understanding user feedback volume."
      ],
      "metadata": {
        "id": "jLNxxz7MYrdP"
      }
    },
    {
      "cell_type": "markdown",
      "source": [
        "#### Chart - 5"
      ],
      "metadata": {
        "id": "bamQiAODYuh1"
      }
    },
    {
      "cell_type": "code",
      "source": [
        "# Chart - 5 visualization code\n",
        "# Bar Chart - Sentiment Distribution of User Reviews\n",
        "sentiment_counts = merged_df['Sentiment'].value_counts()\n",
        "plt.figure(figsize=(15, 6))\n",
        "plt.bar(sentiment_counts.index, sentiment_counts.values, color=['green', 'red', 'blue'])\n",
        "plt.title('Sentiment Distribution of User Reviews')\n",
        "plt.xlabel('Sentiment')\n",
        "plt.ylabel('Number of Reviews')\n",
        "plt.show()"
      ],
      "metadata": {
        "id": "TIJwrbroYuh3"
      },
      "execution_count": null,
      "outputs": []
    },
    {
      "cell_type": "markdown",
      "source": [
        "##### 1. Why did you pick the specific chart?"
      ],
      "metadata": {
        "id": "QHF8YVU7Yuh3"
      }
    },
    {
      "cell_type": "markdown",
      "source": [
        "To analyze the distribution of review sentiments."
      ],
      "metadata": {
        "id": "dcxuIMRPYuh3"
      }
    },
    {
      "cell_type": "markdown",
      "source": [
        "##### 2. What is/are the insight(s) found from the chart?"
      ],
      "metadata": {
        "id": "GwzvFGzlYuh3"
      }
    },
    {
      "cell_type": "markdown",
      "source": [
        "Positive reviews dominate, followed by neutral and negative."
      ],
      "metadata": {
        "id": "uyqkiB8YYuh3"
      }
    },
    {
      "cell_type": "markdown",
      "source": [
        "##### 3. Will the gained insights help creating a positive business impact?\n",
        "Are there any insights that lead to negative growth? Justify with specific reason."
      ],
      "metadata": {
        "id": "qYpmQ266Yuh3"
      }
    },
    {
      "cell_type": "markdown",
      "source": [
        "Indicates overall user satisfaction. Focus on maintaining positive sentiment and addressing negative feedback."
      ],
      "metadata": {
        "id": "_WtzZ_hCYuh4"
      }
    },
    {
      "cell_type": "markdown",
      "source": [
        "#### Chart - 6"
      ],
      "metadata": {
        "id": "OH-pJp9IphqM"
      }
    },
    {
      "cell_type": "code",
      "source": [
        "# Chart - 6 visualization code\n",
        "# Scatter Plot - Correlation between App Ratings and Sentiment Polarity\n",
        "app_sentiment_corr = merged_df[['Rating', 'Sentiment_Polarity']]\n",
        "plt.figure(figsize=(15, 6))\n",
        "sns.scatterplot(data=app_sentiment_corr, x='Rating', y='Sentiment_Polarity')\n",
        "plt.title('Correlation between App Ratings and Sentiment Polarity')\n",
        "plt.xlabel('App Rating')\n",
        "plt.ylabel('Average Sentiment Polarity')\n",
        "plt.show()"
      ],
      "metadata": {
        "id": "kuRf4wtuphqN"
      },
      "execution_count": null,
      "outputs": []
    },
    {
      "cell_type": "markdown",
      "source": [
        "##### 1. Why did you pick the specific chart?"
      ],
      "metadata": {
        "id": "bbFf2-_FphqN"
      }
    },
    {
      "cell_type": "markdown",
      "source": [
        " To visualize the relationship between app ratings and sentiment polarity."
      ],
      "metadata": {
        "id": "loh7H2nzphqN"
      }
    },
    {
      "cell_type": "markdown",
      "source": [
        "##### 2. What is/are the insight(s) found from the chart?"
      ],
      "metadata": {
        "id": "_ouA3fa0phqN"
      }
    },
    {
      "cell_type": "markdown",
      "source": [
        "Positive correlation; higher-rated apps have more positive sentiments."
      ],
      "metadata": {
        "id": "VECbqPI7phqN"
      }
    },
    {
      "cell_type": "markdown",
      "source": [
        "##### 3. Will the gained insights help creating a positive business impact?\n",
        "Are there any insights that lead to negative growth? Justify with specific reason."
      ],
      "metadata": {
        "id": "Seke61FWphqN"
      }
    },
    {
      "cell_type": "markdown",
      "source": [
        "Validates the importance of positive reviews for higher app ratings."
      ],
      "metadata": {
        "id": "DW4_bGpfphqN"
      }
    },
    {
      "cell_type": "markdown",
      "source": [
        "#### Chart - 7"
      ],
      "metadata": {
        "id": "PIIx-8_IphqN"
      }
    },
    {
      "cell_type": "code",
      "source": [
        "# Chart - 7 visualization code\n",
        "# Histogram - Distribution of App Sizes\n",
        "plt.figure(figsize=(15, 6))\n",
        "sns.histplot(play_store_data['Size'], bins=20, kde=True)\n",
        "plt.title('Distribution of App Sizes')\n",
        "plt.xlabel('Size (in bytes)')\n",
        "plt.ylabel('Frequency')\n",
        "plt.show()"
      ],
      "metadata": {
        "id": "lqAIGUfyphqO"
      },
      "execution_count": null,
      "outputs": []
    },
    {
      "cell_type": "markdown",
      "source": [
        "##### 1. Why did you pick the specific chart?"
      ],
      "metadata": {
        "id": "t27r6nlMphqO"
      }
    },
    {
      "cell_type": "markdown",
      "source": [
        "To understand the distribution of app sizes."
      ],
      "metadata": {
        "id": "iv6ro40sphqO"
      }
    },
    {
      "cell_type": "markdown",
      "source": [
        "##### 2. What is/are the insight(s) found from the chart?"
      ],
      "metadata": {
        "id": "r2jJGEOYphqO"
      }
    },
    {
      "cell_type": "markdown",
      "source": [
        "Most apps are under 100MB."
      ],
      "metadata": {
        "id": "Po6ZPi4hphqO"
      }
    },
    {
      "cell_type": "markdown",
      "source": [
        "##### 3. Will the gained insights help creating a positive business impact?\n",
        "Are there any insights that lead to negative growth? Justify with specific reason."
      ],
      "metadata": {
        "id": "b0JNsNcRphqO"
      }
    },
    {
      "cell_type": "markdown",
      "source": [
        "Guides developers on optimal app size to avoid large downloads which may deter users."
      ],
      "metadata": {
        "id": "xvSq8iUTphqO"
      }
    },
    {
      "cell_type": "markdown",
      "source": [
        "#### Chart - 8"
      ],
      "metadata": {
        "id": "BZR9WyysphqO"
      }
    },
    {
      "cell_type": "code",
      "source": [
        "# Chart - 8 visualization code\n",
        "# Scatter Plot - Price vs. Number of Reviews\n",
        "plt.figure(figsize=(15, 6))\n",
        "sns.scatterplot(x=play_store_data['Reviews'], y=play_store_data['Rating'])\n",
        "plt.title('Rating vs. Number of Reviews')\n",
        "plt.xlabel('Number of Reviews')\n",
        "plt.ylabel('Rating')\n",
        "plt.show()"
      ],
      "metadata": {
        "id": "TdPTWpAVphqO"
      },
      "execution_count": null,
      "outputs": []
    },
    {
      "cell_type": "markdown",
      "source": [
        "##### 1. Why did you pick the specific chart?"
      ],
      "metadata": {
        "id": "jj7wYXLtphqO"
      }
    },
    {
      "cell_type": "markdown",
      "source": [
        "To explore the relationship between ratings and the number of reviews."
      ],
      "metadata": {
        "id": "Ob8u6rCTphqO"
      }
    },
    {
      "cell_type": "markdown",
      "source": [
        "##### 2. What is/are the insight(s) found from the chart?"
      ],
      "metadata": {
        "id": "eZrbJ2SmphqO"
      }
    },
    {
      "cell_type": "markdown",
      "source": [
        "Apps with more reviews tend to have higher ratings."
      ],
      "metadata": {
        "id": "mZtgC_hjphqO"
      }
    },
    {
      "cell_type": "markdown",
      "source": [
        "##### 3. Will the gained insights help creating a positive business impact?\n",
        "Are there any insights that lead to negative growth? Justify with specific reason."
      ],
      "metadata": {
        "id": "rFu4xreNphqO"
      }
    },
    {
      "cell_type": "markdown",
      "source": [
        "Encourages soliciting more reviews to potentially boost ratings."
      ],
      "metadata": {
        "id": "ey_0qi68phqO"
      }
    },
    {
      "cell_type": "markdown",
      "source": [
        "#### Chart - 9"
      ],
      "metadata": {
        "id": "YJ55k-q6phqO"
      }
    },
    {
      "cell_type": "code",
      "source": [
        "# Chart - 9 visualization code\n",
        "# Scatter Plot - Rating vs. Size\n",
        "plt.figure(figsize=(15, 6))\n",
        "sns.scatterplot(x=play_store_data['Size'], y=play_store_data['Rating'])\n",
        "plt.title('Rating vs. Size')\n",
        "plt.xlabel('Size (in bytes)')\n",
        "plt.ylabel('Rating')\n",
        "plt.show()"
      ],
      "metadata": {
        "id": "B2aS4O1ophqO"
      },
      "execution_count": null,
      "outputs": []
    },
    {
      "cell_type": "markdown",
      "source": [
        "##### 1. Why did you pick the specific chart?"
      ],
      "metadata": {
        "id": "gCFgpxoyphqP"
      }
    },
    {
      "cell_type": "markdown",
      "source": [
        "To examine if app size affects user ratings."
      ],
      "metadata": {
        "id": "TVxDimi2phqP"
      }
    },
    {
      "cell_type": "markdown",
      "source": [
        "##### 2. What is/are the insight(s) found from the chart?"
      ],
      "metadata": {
        "id": "OVtJsKN_phqQ"
      }
    },
    {
      "cell_type": "markdown",
      "source": [
        "No strong correlation between app size and rating."
      ],
      "metadata": {
        "id": "ngGi97qjphqQ"
      }
    },
    {
      "cell_type": "markdown",
      "source": [
        "##### 3. Will the gained insights help creating a positive business impact?\n",
        "Are there any insights that lead to negative growth? Justify with specific reason."
      ],
      "metadata": {
        "id": "lssrdh5qphqQ"
      }
    },
    {
      "cell_type": "markdown",
      "source": [
        "Suggests that size optimization may not directly influence ratings, but other factors do."
      ],
      "metadata": {
        "id": "tBpY5ekJphqQ"
      }
    },
    {
      "cell_type": "markdown",
      "source": [
        "#### Chart - 10"
      ],
      "metadata": {
        "id": "U2RJ9gkRphqQ"
      }
    },
    {
      "cell_type": "code",
      "source": [
        "# Chart - 10 visualization code\n",
        "# Scatter Plot - Price vs. Rating\n",
        "plt.figure(figsize=(15, 6))\n",
        "sns.scatterplot(x=play_store_data['Price'], y=play_store_data['Rating'])\n",
        "plt.title('Rating vs. Price')\n",
        "plt.xlabel('Price')\n",
        "plt.ylabel('Rating')\n",
        "plt.show()"
      ],
      "metadata": {
        "id": "GM7a4YP4phqQ"
      },
      "execution_count": null,
      "outputs": []
    },
    {
      "cell_type": "markdown",
      "source": [
        "##### 1. Why did you pick the specific chart?"
      ],
      "metadata": {
        "id": "1M8mcRywphqQ"
      }
    },
    {
      "cell_type": "markdown",
      "source": [
        "To see if there is a relationship between app price and rating."
      ],
      "metadata": {
        "id": "8agQvks0phqQ"
      }
    },
    {
      "cell_type": "markdown",
      "source": [
        "##### 2. What is/are the insight(s) found from the chart?"
      ],
      "metadata": {
        "id": "tgIPom80phqQ"
      }
    },
    {
      "cell_type": "markdown",
      "source": [
        "Weak correlation; higher prices do not necessarily mean higher ratings."
      ],
      "metadata": {
        "id": "Qp13pnNzphqQ"
      }
    },
    {
      "cell_type": "markdown",
      "source": [
        "##### 3. Will the gained insights help creating a positive business impact?\n",
        "Are there any insights that lead to negative growth? Justify with specific reason."
      ],
      "metadata": {
        "id": "JMzcOPDDphqR"
      }
    },
    {
      "cell_type": "markdown",
      "source": [
        "Pricing strategy should consider value proposition rather than assuming higher prices yield better ratings."
      ],
      "metadata": {
        "id": "R4Ka1PC2phqR"
      }
    },
    {
      "cell_type": "markdown",
      "source": [
        "#### Chart - 11"
      ],
      "metadata": {
        "id": "x-EpHcCOp1ci"
      }
    },
    {
      "cell_type": "code",
      "source": [
        "# Chart - 11 visualization code\n",
        "# Bar Chart - Average Sentiment Polarity by Category\n",
        "play_store_data2 = pd.read_csv('/content/User Reviews.csv')\n",
        "category_sentiment = play_store_data2.groupby('App')['Sentiment_Polarity'].mean().reset_index()\n",
        "category_sentiment = category_sentiment.merge(play_store_data[['App', 'Category']], on='App')\n",
        "avg_sentiment_polarity = category_sentiment.groupby('Category')['Sentiment_Polarity'].mean().sort_values(ascending=False).head(10)\n",
        "\n",
        "plt.figure(figsize=(15, 6))\n",
        "avg_sentiment_polarity.plot(kind='bar', color='skyblue')\n",
        "plt.title('Average Sentiment Polarity by Category')\n",
        "plt.xlabel('Category')\n",
        "plt.ylabel('Average Sentiment Polarity')\n",
        "plt.show()"
      ],
      "metadata": {
        "id": "mAQTIvtqp1cj"
      },
      "execution_count": null,
      "outputs": []
    },
    {
      "cell_type": "markdown",
      "source": [
        "##### 1. Why did you pick the specific chart?"
      ],
      "metadata": {
        "id": "X_VqEhTip1ck"
      }
    },
    {
      "cell_type": "markdown",
      "source": [
        "To see which categories have the most positive or negative sentiments."
      ],
      "metadata": {
        "id": "-vsMzt_np1ck"
      }
    },
    {
      "cell_type": "markdown",
      "source": [
        "##### 2. What is/are the insight(s) found from the chart?"
      ],
      "metadata": {
        "id": "8zGJKyg5p1ck"
      }
    },
    {
      "cell_type": "markdown",
      "source": [
        "Categories like \"PERSONALIZATION\" have higher positive sentiment polarity."
      ],
      "metadata": {
        "id": "ZYdMsrqVp1ck"
      }
    },
    {
      "cell_type": "markdown",
      "source": [
        "##### 3. Will the gained insights help creating a positive business impact?\n",
        "Are there any insights that lead to negative growth? Justify with specific reason."
      ],
      "metadata": {
        "id": "PVzmfK_Ep1ck"
      }
    },
    {
      "cell_type": "markdown",
      "source": [
        "Positive sentiment in certain categories indicates high user satisfaction, attracting more developers to these areas."
      ],
      "metadata": {
        "id": "druuKYZpp1ck"
      }
    },
    {
      "cell_type": "markdown",
      "source": [
        "#### Chart - 12"
      ],
      "metadata": {
        "id": "n3dbpmDWp1ck"
      }
    },
    {
      "cell_type": "code",
      "source": [
        "# Chart - 12 visualization code\n",
        "# Box Plot - Rating Distribution by Content Rating\n",
        "plt.figure(figsize=(15, 6))\n",
        "sns.boxplot(x=play_store_data['Content Rating'], y=play_store_data['Rating'])\n",
        "plt.title('Rating Distribution by Content Rating')\n",
        "plt.xlabel('Content Rating')\n",
        "plt.ylabel('Rating')\n",
        "plt.show()"
      ],
      "metadata": {
        "id": "bwevp1tKp1ck"
      },
      "execution_count": null,
      "outputs": []
    },
    {
      "cell_type": "markdown",
      "source": [
        "##### 1. Why did you pick the specific chart?"
      ],
      "metadata": {
        "id": "ylSl6qgtp1ck"
      }
    },
    {
      "cell_type": "markdown",
      "source": [
        "To compare app ratings across different content ratings."
      ],
      "metadata": {
        "id": "m2xqNkiQp1ck"
      }
    },
    {
      "cell_type": "markdown",
      "source": [
        "##### 2. What is/are the insight(s) found from the chart?"
      ],
      "metadata": {
        "id": "ZWILFDl5p1ck"
      }
    },
    {
      "cell_type": "markdown",
      "source": [
        "Apps rated \"Everyone\" have a slightly higher median rating."
      ],
      "metadata": {
        "id": "x-lUsV2mp1ck"
      }
    },
    {
      "cell_type": "markdown",
      "source": [
        "##### 3. Will the gained insights help creating a positive business impact?\n",
        "Are there any insights that lead to negative growth? Justify with specific reason."
      ],
      "metadata": {
        "id": "M7G43BXep1ck"
      }
    },
    {
      "cell_type": "markdown",
      "source": [
        "Targeting a broader audience (e.g., \"Everyone\") could potentially lead to higher ratings."
      ],
      "metadata": {
        "id": "5wwDJXsLp1cl"
      }
    },
    {
      "cell_type": "markdown",
      "source": [
        "#### Chart - 13"
      ],
      "metadata": {
        "id": "Ag9LCva-p1cl"
      }
    },
    {
      "cell_type": "code",
      "source": [
        "# Chart - 13 visualization code\n",
        "# Line Chart - Trend of App Updates Over Time\n",
        "play_store_data['Last Updated'] = pd.to_datetime(play_store_data['Last Updated'])\n",
        "updates_trend = play_store_data['Last Updated'].dt.year.value_counts().sort_index()\n",
        "\n",
        "plt.figure(figsize=(15, 6))\n",
        "updates_trend.plot(kind='line', marker='o')\n",
        "plt.title('Trend of App Updates Over Time')\n",
        "plt.xlabel('Year')\n",
        "plt.ylabel('Number of Updates')\n",
        "plt.show()"
      ],
      "metadata": {
        "id": "EUfxeq9-p1cl"
      },
      "execution_count": null,
      "outputs": []
    },
    {
      "cell_type": "markdown",
      "source": [
        "##### 1. Why did you pick the specific chart?"
      ],
      "metadata": {
        "id": "E6MkPsBcp1cl"
      }
    },
    {
      "cell_type": "markdown",
      "source": [
        "To see how frequently apps are updated over time."
      ],
      "metadata": {
        "id": "V22bRsFWp1cl"
      }
    },
    {
      "cell_type": "markdown",
      "source": [
        "##### 2. What is/are the insight(s) found from the chart?"
      ],
      "metadata": {
        "id": "2cELzS2fp1cl"
      }
    },
    {
      "cell_type": "markdown",
      "source": [
        "Regular updates can indicate active development."
      ],
      "metadata": {
        "id": "ozQPc2_Ip1cl"
      }
    },
    {
      "cell_type": "markdown",
      "source": [
        "##### 3. Will the gained insights help creating a positive business impact?\n",
        "Are there any insights that lead to negative growth? Justify with specific reason."
      ],
      "metadata": {
        "id": "3MPXvC8up1cl"
      }
    },
    {
      "cell_type": "markdown",
      "source": [
        "Regular updates can improve user satisfaction. Irregular updates might indicate a lack of support."
      ],
      "metadata": {
        "id": "GL8l1tdLp1cl"
      }
    },
    {
      "cell_type": "markdown",
      "source": [
        "#### Chart - 14 - Correlation Heatmap"
      ],
      "metadata": {
        "id": "NC_X3p0fY2L0"
      }
    },
    {
      "cell_type": "code",
      "source": [
        "# Correlation Heatmap visualization code\n",
        "# Select numerical columns before calculating correlation\n",
        "numerical_data = play_store_data.select_dtypes(include=['number'])\n",
        "\n",
        "# Calculate correlation matrix on numerical data only\n",
        "corr_matrix = numerical_data.corr()\n",
        "\n",
        "plt.figure(figsize=(15, 6))\n",
        "sns.heatmap(corr_matrix, annot=True, cmap='coolwarm', linewidths=0.5)\n",
        "plt.title('Correlation Matrix of Numerical Variables')\n",
        "plt.show()"
      ],
      "metadata": {
        "id": "xyC9zolEZNRQ"
      },
      "execution_count": null,
      "outputs": []
    },
    {
      "cell_type": "markdown",
      "source": [
        "##### 1. Why did you pick the specific chart?"
      ],
      "metadata": {
        "id": "UV0SzAkaZNRQ"
      }
    },
    {
      "cell_type": "markdown",
      "source": [
        "To understand the relationships between numerical variables."
      ],
      "metadata": {
        "id": "DVPuT8LYZNRQ"
      }
    },
    {
      "cell_type": "markdown",
      "source": [
        "##### 2. What is/are the insight(s) found from the chart?"
      ],
      "metadata": {
        "id": "YPEH6qLeZNRQ"
      }
    },
    {
      "cell_type": "markdown",
      "source": [
        "Positive correlation between installs and reviews. Weak correlation between price and rating."
      ],
      "metadata": {
        "id": "bfSqtnDqZNRR"
      }
    },
    {
      "cell_type": "markdown",
      "source": [
        "#### Chart - 15 - Pair Plot"
      ],
      "metadata": {
        "id": "q29F0dvdveiT"
      }
    },
    {
      "cell_type": "code",
      "source": [
        "# Pair Plot visualization code\n",
        "# Select relevant numerical columns for the pair plot\n",
        "numerical_cols = ['Rating', 'Reviews', 'Size', 'Installs', 'Price']\n",
        "\n",
        "# Create the pair plot\n",
        "plt.figure(figsize=(12, 12))\n",
        "pair_plot = sns.pairplot(play_store_data[numerical_cols])\n",
        "pair_plot.fig.suptitle('Pair Plot of Play Store Data', y=1.02)\n",
        "plt.show()"
      ],
      "metadata": {
        "id": "o58-TEIhveiU"
      },
      "execution_count": null,
      "outputs": []
    },
    {
      "cell_type": "markdown",
      "source": [
        "##### 1. Why did you pick the specific chart?"
      ],
      "metadata": {
        "id": "EXh0U9oCveiU"
      }
    },
    {
      "cell_type": "markdown",
      "source": [
        "A pair plot (or scatter plot matrix) is a powerful tool for exploring the relationships between multiple numerical variables at once. It provides a matrix of scatter plots for each pair of variables, along with histograms or KDE plots for the individual distributions. This helps in visualizing correlations, patterns, and potential outliers."
      ],
      "metadata": {
        "id": "eMmPjTByveiU"
      }
    },
    {
      "cell_type": "markdown",
      "source": [
        "##### 2. What is/are the insight(s) found from the chart?"
      ],
      "metadata": {
        "id": "22aHeOlLveiV"
      }
    },
    {
      "cell_type": "markdown",
      "source": [
        "**Correlation between variables**: We can identify which variables are strongly correlated. For example, we might see a strong positive correlation between the number of installs and the number of reviews.\n",
        "####**Distribution of variables**:\n",
        "The diagonal plots show the distribution of individual variables, helping us understand their skewness and spread.\n",
        "####**Potential outliers**:\n",
        "Scatter plots can reveal outliers that may need further investigation"
      ],
      "metadata": {
        "id": "uPQ8RGwHveiV"
      }
    },
    {
      "cell_type": "markdown",
      "source": [
        "## **5. Solution to Business Objective**"
      ],
      "metadata": {
        "id": "JcMwzZxoAimU"
      }
    },
    {
      "cell_type": "markdown",
      "source": [
        "#### What do you suggest the client to achieve Business Objective ?\n",
        "Explain Briefly."
      ],
      "metadata": {
        "id": "8G2x9gOozGDZ"
      }
    },
    {
      "cell_type": "markdown",
      "source": [
        "To help the client achieve their business objective of improving app performance, user satisfaction, and overall market success, here are some strategic suggestions based on the insights derived from the data analysis and visualizations:\n",
        "\n",
        "1. **Encourage User Reviews and Feedback**:\n",
        "   - **Action**: Implement in-app prompts and incentives for users to leave reviews and feedback.\n",
        "   - **Reason**: There is a strong positive correlation between the number of reviews and app ratings. More reviews can lead to higher ratings and improved app visibility.\n",
        "   - **Impact**: Higher ratings can attract more users, leading to increased installs and engagement.\n",
        "\n",
        "2. **Focus on Quality Improvement**:\n",
        "   - **Action**: Regularly update the app to fix bugs, introduce new features, and improve performance.\n",
        "   - **Reason**: Apps with higher ratings tend to have more installs. Regular updates signal active development and commitment to quality.\n",
        "   - **Impact**: Improved app quality can lead to better user experiences, higher ratings, and increased user retention.\n",
        "\n",
        "3. **Optimize App Size**:\n",
        "   - **Action**: Optimize the app's size without compromising on features and performance.\n",
        "   - **Reason**: While there is no strong correlation between app size and installs, optimizing size can enhance download speeds and performance, especially for users with limited storage or data plans.\n",
        "   - **Impact**: A well-optimized app can lead to better user experiences and potentially higher ratings.\n",
        "\n",
        "4. **Target Marketing and User Acquisition**:\n",
        "   - **Action**: Invest in targeted marketing campaigns to increase app visibility and attract new users.\n",
        "   - **Reason**: There is a positive correlation between the number of installs and the number of reviews. More installs can lead to higher engagement and feedback.\n",
        "   - **Impact**: Increased installs can boost the app’s position in app store rankings, attracting even more users.\n",
        "\n",
        "5. **Address Negative Feedback**:\n",
        "   - **Action**: Analyze negative reviews to identify common issues and areas for improvement.\n",
        "   - **Reason**: Understanding and addressing the reasons behind negative reviews can help improve user satisfaction.\n",
        "   - **Impact**: Resolving issues can turn dissatisfied users into satisfied ones, leading to better ratings and reviews.\n",
        "\n",
        "6. **Leverage Positive Feedback for Marketing**:\n",
        "   - **Action**: Use positive reviews and high ratings in marketing materials to build trust and credibility.\n",
        "   - **Reason**: Highlighting positive user experiences can attract new users who are looking for highly rated and trusted apps.\n",
        "   - **Impact**: Effective marketing can drive more installs and user engagement.\n",
        "\n",
        "7. **Explore Less Competitive Categories**:\n",
        "   - **Action**: Consider developing apps in less crowded categories with high average ratings.\n",
        "   - **Reason**: Categories with fewer apps but high user satisfaction can offer growth opportunities with less competition.\n",
        "   - **Impact**: Entering a less saturated market can provide better visibility and higher chances of success.\n",
        "\n",
        "### Implementation Plan\n",
        "\n",
        "1. **User Engagement Strategy**:\n",
        "   - Implement in-app review prompts.\n",
        "   - Create a feedback system for users to easily report issues and suggest features.\n",
        "   - Run periodic surveys to gather user insights.\n",
        "\n",
        "2. **Quality Assurance**:\n",
        "   - Establish a regular update schedule.\n",
        "   - Invest in thorough testing before releases.\n",
        "   - Monitor app performance metrics and user feedback continuously.\n",
        "\n",
        "3. **Marketing Campaigns**:\n",
        "   - Run targeted ads on social media and app platforms.\n",
        "   - Collaborate with influencers and bloggers to review and promote the app.\n",
        "   - Offer limited-time promotions and discounts to attract new users.\n",
        "\n",
        "4. **Optimization Efforts**:\n",
        "   - Conduct regular audits to identify and remove unnecessary app bloat.\n",
        "   - Use efficient coding practices to enhance app performance.\n",
        "   - Offer a lite version of the app for users with lower-end devices.\n",
        "\n",
        "5. **Negative Feedback Management**:\n",
        "   - Set up a dedicated team to monitor and respond to reviews promptly.\n",
        "   - Implement a tracking system for reported issues and resolutions.\n",
        "   - Use analytics to identify patterns in negative feedback and prioritize fixes."
      ],
      "metadata": {
        "id": "pASKb0qOza21"
      }
    },
    {
      "cell_type": "markdown",
      "source": [
        "# **Conclusion**"
      ],
      "metadata": {
        "id": "gCX9965dhzqZ"
      }
    },
    {
      "cell_type": "markdown",
      "source": [
        "### Conclusion\n",
        "\n",
        "Based on the analysis of the Play Store data and user reviews, several key insights and actionable strategies have been identified to help the client achieve their business objectives of improving app performance, user satisfaction, and overall market success.\n",
        "\n",
        "1. **Encouraging User Reviews and Feedback**: By implementing in-app prompts and offering incentives for users to leave reviews, the client can increase the number of reviews, which is positively correlated with higher app ratings. This strategy can improve app visibility and attract more users.\n",
        "\n",
        "2. **Focusing on Quality Improvement**: Regular updates, bug fixes, and new features are essential to maintain high app ratings and user satisfaction. Active development signals a commitment to quality, leading to better user experiences and increased retention.\n",
        "\n",
        "3. **Optimizing App Size**: Ensuring that the app size is optimized for performance without compromising on features can enhance download speeds and overall user experience, especially for users with limited storage or data plans.\n",
        "\n",
        "4. **Targeting Marketing and User Acquisition**: Investing in targeted marketing campaigns can increase app visibility and attract new users. A higher number of installs can lead to more user engagement and feedback, further boosting app performance and ratings.\n",
        "\n",
        "5. **Addressing Negative Feedback**: Analyzing negative reviews to identify common issues and areas for improvement is crucial. Addressing these issues can turn dissatisfied users into satisfied ones, leading to better ratings and reviews.\n",
        "\n",
        "6. **Leveraging Positive Feedback for Marketing**: Using positive reviews and high ratings in marketing materials can build trust and credibility, attracting new users who are looking for highly rated and trusted apps.\n",
        "\n",
        "7. **Exploring Less Competitive Categories**: Developing apps in less crowded categories with high average ratings can offer growth opportunities with less competition, providing better visibility and higher chances of success.\n",
        "\n",
        "### Final Recommendations\n",
        "\n",
        "By focusing on these strategies, the client can improve app quality, user satisfaction, and overall market performance. Continuous monitoring of app performance metrics, user feedback, and market trends will ensure sustained growth and a competitive edge in the market. Implementing these strategies will not only help in achieving the business objectives but also foster long-term success in the highly competitive app market."
      ],
      "metadata": {
        "id": "Fjb1IsQkh3yE"
      }
    },
    {
      "cell_type": "markdown",
      "source": [
        "### ***Hurrah! You have successfully completed your EDA Capstone Project !!!***"
      ],
      "metadata": {
        "id": "gIfDvo9L0UH2"
      }
    }
  ]
}